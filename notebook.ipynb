{
 "cells": [
  {
   "cell_type": "code",
   "execution_count": 1,
   "metadata": {
    "collapsed": true
   },
   "outputs": [],
   "source": [
    "# Import pandas and numpy, and create our test dataframe (100k rows, random normal)\n",
    "import pandas as pd\n",
    "import numpy as np\n",
    "\n",
    "df = pd.DataFrame(np.random.randn(100000, 2), columns=['A','B'])"
   ]
  },
  {
   "cell_type": "code",
   "execution_count": 3,
   "metadata": {
    "collapsed": true
   },
   "outputs": [],
   "source": [
    "# The naive implementation of our calculation function.\n",
    "def intensive_calculation(row):\n",
    "    x = row['A'] + row['B']\n",
    "    return x * (row['A'] * row['A'] / row['B'] * row['B'])"
   ]
  },
  {
   "cell_type": "code",
   "execution_count": 4,
   "metadata": {
    "collapsed": false
   },
   "outputs": [
    {
     "name": "stdout",
     "output_type": "stream",
     "text": [
      "1 loop, best of 3: 11.4 s per loop\n"
     ]
    }
   ],
   "source": [
    "%%timeit\n",
    "# Running our naive implementation and measuring the time.\n",
    "df['C'] = df.apply(intensive_calculation, axis=1)"
   ]
  },
  {
   "cell_type": "code",
   "execution_count": 21,
   "metadata": {
    "collapsed": false
   },
   "outputs": [],
   "source": [
    "%load_ext cython"
   ]
  },
  {
   "cell_type": "code",
   "execution_count": 23,
   "metadata": {
    "collapsed": false
   },
   "outputs": [],
   "source": [
    "%%cython\n",
    "# Inline Cython implementation\n",
    "cpdef double intensive_calc_cython(double a, double b) except *:\n",
    "    cdef double x\n",
    "\n",
    "    x = a + b\n",
    "\n",
    "    return x * (a * a / b * b)"
   ]
  },
  {
   "cell_type": "code",
   "execution_count": 6,
   "metadata": {
    "collapsed": false
   },
   "outputs": [
    {
     "name": "stdout",
     "output_type": "stream",
     "text": [
      "1 loop, best of 3: 4.46 s per loop\n"
     ]
    }
   ],
   "source": [
    "%%timeit\n",
    "# Running our Cython implementation\n",
    "import pyximport\n",
    "pyximport.install()\n",
    "\n",
    "from helper import intensive_calc_cython\n",
    "\n",
    "df['C'] = df.apply(lambda row: intensive_calc_cython(row['A'], row['B']), axis=1)"
   ]
  },
  {
   "cell_type": "code",
   "execution_count": 15,
   "metadata": {
    "collapsed": false
   },
   "outputs": [
    {
     "name": "stdout",
     "output_type": "stream",
     "text": [
      "1 loop: 3.131078s per loop.\n"
     ]
    }
   ],
   "source": [
    "from datetime import datetime\n",
    "start_ts = datetime.now()\n",
    "\n",
    "# Running our naive implementation with multiprocessing\n",
    "from multiprocessing import Pool\n",
    "from multiprocessing import cpu_count\n",
    "\n",
    "def parallelize(df, func):\n",
    "    \"\"\"\n",
    "    This function splits our dataframe and performs the passed function on each split, then combines.\n",
    "    \"\"\"\n",
    "    \n",
    "    num_cores = cpu_count()\n",
    "\n",
    "    df_splits = np.array_split(df, num_cores)\n",
    "    pool = Pool(num_cores)\n",
    "\n",
    "    out_df = pd.concat(pool.map(func, df_splits))\n",
    "\n",
    "    pool.close()\n",
    "    pool.join()\n",
    "\n",
    "    return out_df\n",
    "\n",
    "\n",
    "def intensive_calc_wrapper(df):\n",
    "    \"\"\"\n",
    "    This is the actual function that is being applied.\n",
    "    \"\"\"\n",
    "    return df.apply(lambda row: intensive_calculation(row), axis=1)\n",
    "\n",
    "df['C'] = parallelize(df, intensive_calc_wrapper)\n",
    "\n",
    "print \"1 loop: \" + str((datetime.now() - start_ts).total_seconds()) + \"s per loop.\""
   ]
  },
  {
   "cell_type": "code",
   "execution_count": 14,
   "metadata": {
    "collapsed": false
   },
   "outputs": [
    {
     "name": "stdout",
     "output_type": "stream",
     "text": [
      "1 loop: 1.288652s per loop.\n"
     ]
    }
   ],
   "source": [
    "from datetime import datetime\n",
    "start_ts = datetime.now()\n",
    "\n",
    "# Running our Cython implementation with multiprocessing\n",
    "import pyximport\n",
    "pyximport.install()\n",
    "\n",
    "from helper import intensive_calc_cython\n",
    "\n",
    "from multiprocessing import Pool\n",
    "from multiprocessing import cpu_count\n",
    "\n",
    "def parallelize(df, func):\n",
    "    \"\"\"\n",
    "    This function splits our dataframe and performs the passed function on each split, then combines.\n",
    "    \"\"\"\n",
    "    \n",
    "    num_cores = cpu_count()\n",
    "\n",
    "    df_splits = np.array_split(df, num_cores)\n",
    "    pool = Pool(num_cores)\n",
    "\n",
    "    out_df = pd.concat(pool.map(func, df_splits))\n",
    "\n",
    "    pool.close()\n",
    "    pool.join()\n",
    "\n",
    "    return out_df\n",
    "\n",
    "\n",
    "def intensive_calc_wrapper(df):\n",
    "    \"\"\"\n",
    "    This is the actual function that is being applied.\n",
    "    \"\"\"\n",
    "    return df.apply(lambda row: intensive_calc_cython(row['A'], row['B']), axis=1)\n",
    "\n",
    "df['C'] = parallelize(df, intensive_calc_wrapper)\n",
    "\n",
    "print \"1 loop: \" + str((datetime.now() - start_ts).total_seconds()) + \"s per loop.\""
   ]
  },
  {
   "cell_type": "code",
   "execution_count": 28,
   "metadata": {
    "collapsed": false
   },
   "outputs": [
    {
     "name": "stdout",
     "output_type": "stream",
     "text": [
      "1 loop: 5.293451s per loop.\n"
     ]
    }
   ],
   "source": [
    "from datetime import datetime\n",
    "start_ts = datetime.now()\n",
    "\n",
    "# using Numba\n",
    "from numba import jit, float32\n",
    "\n",
    "# The Numba implementation of our calculation function.\n",
    "@jit(float32(float32, float32), nopython=True, cache=True)\n",
    "def intensive_calculation(a, b):\n",
    "    x = a + b\n",
    "    return x * (a * a / b * b)\n",
    "\n",
    "df['C'] = df.apply(lambda row: intensive_calculation(row['A'], row['B']), axis=1)\n",
    "\n",
    "print \"1 loop: \" + str((datetime.now() - start_ts).total_seconds()) + \"s per loop.\""
   ]
  },
  {
   "cell_type": "code",
   "execution_count": 16,
   "metadata": {
    "collapsed": false
   },
   "outputs": [
    {
     "name": "stdout",
     "output_type": "stream",
     "text": [
      "100 loops, best of 3: 4.82 ms per loop\n"
     ]
    }
   ],
   "source": [
    "%%timeit\n",
    "# The fully vectorized time\n",
    "df['C'] = (df['A'] + df['B']) * (df['A'] * df['A'] / df['B'] * df['B'])"
   ]
  }
 ],
 "metadata": {
  "kernelspec": {
   "display_name": "Python 2",
   "language": "python",
   "name": "python2"
  },
  "language_info": {
   "codemirror_mode": {
    "name": "ipython",
    "version": 2
   },
   "file_extension": ".py",
   "mimetype": "text/x-python",
   "name": "python",
   "nbconvert_exporter": "python",
   "pygments_lexer": "ipython2",
   "version": "2.7.13"
  }
 },
 "nbformat": 4,
 "nbformat_minor": 2
}
